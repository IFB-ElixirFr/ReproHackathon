{
 "cells": [
  {
   "cell_type": "code",
   "execution_count": 1,
   "metadata": {},
   "outputs": [],
   "source": [
    "%matplotlib notebook\n",
    "\n",
    "import openalea.phenomenal.display.notebook as phm_display_notebook\n",
    "from segmentation_maize import segmentation, plant_seg\n",
    "import datacloud as dc"
   ]
  },
  {
   "cell_type": "code",
   "execution_count": 2,
   "metadata": {},
   "outputs": [],
   "source": [
    "db = dc.read_index()"
   ]
  },
  {
   "cell_type": "code",
   "execution_count": 3,
   "metadata": {},
   "outputs": [],
   "source": [
    "plant_ids = db.plant.unique()\n",
    "plant_id = plant_ids[2]"
   ]
  },
  {
   "cell_type": "code",
   "execution_count": 4,
   "metadata": {},
   "outputs": [
    {
     "name": "stderr",
     "output_type": "stream",
     "text": [
      "/var/lib/miniconda3/envs/pheno/lib/python2.7/site-packages/ipykernel_launcher.py:2: SettingWithCopyWarning: \n",
      "A value is trying to be set on a copy of a slice from a DataFrame\n",
      "\n",
      "See the caveats in the documentation: http://pandas.pydata.org/pandas-docs/stable/indexing.html#indexing-view-versus-copy\n",
      "  \n"
     ]
    }
   ],
   "source": [
    "plants = db.loc[db.plant==plant_id, :]\n",
    "plants.sort_values('date', inplace=True)"
   ]
  },
  {
   "cell_type": "code",
   "execution_count": 5,
   "metadata": {},
   "outputs": [
    {
     "name": "stderr",
     "output_type": "stream",
     "text": [
      "/home/ubuntu/phenomenal/src/openalea/phenomenal/segmentation/maize_analysis.py:115: FutureWarning: `rcond` parameter will change to the default of machine precision times ``max(M, N)`` where M and N are the input matrix dimensions.\n",
      "To use the future default and silence this warning we advise to pass `rcond=None`, to keep using the old, explicitly pass `rcond=-1`.\n",
      "  p_all = numpy.linalg.lstsq(XX, width[::-1])[0]\n"
     ]
    },
    {
     "data": {
      "application/vnd.jupyter.widget-view+json": {
       "model_id": "ffa5e10c55214512906f3a5fed904395",
       "version_major": 2,
       "version_minor": 0
      },
      "text/plain": [
       "VkJveChjaGlsZHJlbj0oRmlndXJlKGNhbWVyYT1QZXJzcGVjdGl2ZUNhbWVyYShmb3Y9NDYuMCwgcG9zaXRpb249KDAuMCwgMi4wLCAxLjIyNDY0Njc5OTE0NzM1MzJlLTE2KSwgcXVhdGVybmnigKY=\n"
      ]
     },
     "metadata": {},
     "output_type": "display_data"
    },
    {
     "data": {
      "application/vnd.jupyter.widget-view+json": {
       "model_id": "079e36a028a04afa9009c0a03e721b29",
       "version_major": 2,
       "version_minor": 0
      },
      "text/plain": [
       "VkJveChjaGlsZHJlbj0oRmlndXJlKGNhbWVyYT1QZXJzcGVjdGl2ZUNhbWVyYShmb3Y9NDYuMCwgcG9zaXRpb249KDAuMCwgMi4wLCAxLjIyNDY0Njc5OTE0NzM1MzJlLTE2KSwgcXVhdGVybmnigKY=\n"
      ]
     },
     "metadata": {},
     "output_type": "display_data"
    },
    {
     "data": {
      "application/vnd.jupyter.widget-view+json": {
       "model_id": "585044cc4a8c42d282efe9f95b98a07a",
       "version_major": 2,
       "version_minor": 0
      },
      "text/plain": [
       "VkJveChjaGlsZHJlbj0oRmlndXJlKGNhbWVyYT1QZXJzcGVjdGl2ZUNhbWVyYShmb3Y9NDYuMCwgcG9zaXRpb249KDAuMCwgMi4wLCAxLjIyNDY0Njc5OTE0NzM1MzJlLTE2KSwgcXVhdGVybmnigKY=\n"
      ]
     },
     "metadata": {},
     "output_type": "display_data"
    },
    {
     "data": {
      "application/vnd.jupyter.widget-view+json": {
       "model_id": "d202cca1e1ea47988f86493f2110d4dd",
       "version_major": 2,
       "version_minor": 0
      },
      "text/plain": [
       "VkJveChjaGlsZHJlbj0oRmlndXJlKGNhbWVyYT1QZXJzcGVjdGl2ZUNhbWVyYShmb3Y9NDYuMCwgcG9zaXRpb249KDAuMCwgMi4wLCAxLjIyNDY0Njc5OTE0NzM1MzJlLTE2KSwgcXVhdGVybmnigKY=\n"
      ]
     },
     "metadata": {},
     "output_type": "display_data"
    },
    {
     "data": {
      "application/vnd.jupyter.widget-view+json": {
       "model_id": "e60068312d52450f889dbf1a46b2525f",
       "version_major": 2,
       "version_minor": 0
      },
      "text/plain": [
       "VkJveChjaGlsZHJlbj0oRmlndXJlKGNhbWVyYT1QZXJzcGVjdGl2ZUNhbWVyYShmb3Y9NDYuMCwgcG9zaXRpb249KDAuMCwgMi4wLCAxLjIyNDY0Njc5OTE0NzM1MzJlLTE2KSwgcXVhdGVybmnigKY=\n"
      ]
     },
     "metadata": {},
     "output_type": "display_data"
    },
    {
     "data": {
      "application/vnd.jupyter.widget-view+json": {
       "model_id": "21b2124e0fe244bb875baa45ea26a10b",
       "version_major": 2,
       "version_minor": 0
      },
      "text/plain": [
       "VkJveChjaGlsZHJlbj0oRmlndXJlKGNhbWVyYT1QZXJzcGVjdGl2ZUNhbWVyYShmb3Y9NDYuMCwgcG9zaXRpb249KDAuMCwgMi4wLCAxLjIyNDY0Njc5OTE0NzM1MzJlLTE2KSwgcXVhdGVybmnigKY=\n"
      ]
     },
     "metadata": {},
     "output_type": "display_data"
    },
    {
     "name": "stdout",
     "output_type": "stream",
     "text": [
      "('ERROR row number: ', 58, cabin                                                      elcom_c2\n",
      "camera_angle      [300, 330, 240, 270, 180, 210, 120, 150, 60, 9...\n",
      "date                                     2016-05-27 04:37:59.574516\n",
      "dates             [2016-05-27 04:37:59.574516, 2016-05-27 04:37:...\n",
      "daydate                                                  27/05/2016\n",
      "experiment                                                     ZA16\n",
      "genotype                                                   Lo1284_H\n",
      "nview                                                            13\n",
      "path_http         [http://stck-lepse.supagro.inra.fr/phenoarch/r...\n",
      "plant             0003/Lo1284_H/ZM2892/d154/WD/3/01_03/ARCH2016-...\n",
      "shooting_frame                                      elcom_2_c2_wide\n",
      "task                                                           5292\n",
      "timestamp                                                1464316679\n",
      "uri               [u'http://www.phenome-fppn.fr/m3p/arch/2016/ic...\n",
      "view_type         [side, side, side, side, side, side, side, sid...\n",
      "pos                                                               3\n",
      "line                                                              1\n",
      "Name: 58, dtype: object)\n"
     ]
    },
    {
     "data": {
      "application/vnd.jupyter.widget-view+json": {
       "model_id": "f1d1e43dac614e52b3958c4a89aa66f8",
       "version_major": 2,
       "version_minor": 0
      },
      "text/plain": [
       "VkJveChjaGlsZHJlbj0oRmlndXJlKGNhbWVyYT1QZXJzcGVjdGl2ZUNhbWVyYShmb3Y9NDYuMCwgcG9zaXRpb249KDAuMCwgMi4wLCAxLjIyNDY0Njc5OTE0NzM1MzJlLTE2KSwgcXVhdGVybmnigKY=\n"
      ]
     },
     "metadata": {},
     "output_type": "display_data"
    },
    {
     "data": {
      "application/vnd.jupyter.widget-view+json": {
       "model_id": "6ba7feae35d146d583b6ad7b83c6de4a",
       "version_major": 2,
       "version_minor": 0
      },
      "text/plain": [
       "VkJveChjaGlsZHJlbj0oRmlndXJlKGNhbWVyYT1QZXJzcGVjdGl2ZUNhbWVyYShmb3Y9NDYuMCwgcG9zaXRpb249KDAuMCwgMi4wLCAxLjIyNDY0Njc5OTE0NzM1MzJlLTE2KSwgcXVhdGVybmnigKY=\n"
      ]
     },
     "metadata": {},
     "output_type": "display_data"
    },
    {
     "data": {
      "application/vnd.jupyter.widget-view+json": {
       "model_id": "e7c9a021958a4f5f9c4af71d78900bdb",
       "version_major": 2,
       "version_minor": 0
      },
      "text/plain": [
       "VkJveChjaGlsZHJlbj0oRmlndXJlKGNhbWVyYT1QZXJzcGVjdGl2ZUNhbWVyYShmb3Y9NDYuMCwgcG9zaXRpb249KDAuMCwgMi4wLCAxLjIyNDY0Njc5OTE0NzM1MzJlLTE2KSwgcXVhdGVybmnigKY=\n"
      ]
     },
     "metadata": {},
     "output_type": "display_data"
    },
    {
     "data": {
      "application/vnd.jupyter.widget-view+json": {
       "model_id": "8c19ba0837e34c328a7408f65b887a39",
       "version_major": 2,
       "version_minor": 0
      },
      "text/plain": [
       "VkJveChjaGlsZHJlbj0oRmlndXJlKGNhbWVyYT1QZXJzcGVjdGl2ZUNhbWVyYShmb3Y9NDYuMCwgcG9zaXRpb249KDAuMCwgMi4wLCAxLjIyNDY0Njc5OTE0NzM1MzJlLTE2KSwgcXVhdGVybmnigKY=\n"
      ]
     },
     "metadata": {},
     "output_type": "display_data"
    },
    {
     "data": {
      "application/vnd.jupyter.widget-view+json": {
       "model_id": "708d20fa55c04ac299a744cab0982551",
       "version_major": 2,
       "version_minor": 0
      },
      "text/plain": [
       "VkJveChjaGlsZHJlbj0oRmlndXJlKGNhbWVyYT1QZXJzcGVjdGl2ZUNhbWVyYShmb3Y9NDYuMCwgcG9zaXRpb249KDAuMCwgMi4wLCAxLjIyNDY0Njc5OTE0NzM1MzJlLTE2KSwgcXVhdGVybmnigKY=\n"
      ]
     },
     "metadata": {},
     "output_type": "display_data"
    },
    {
     "data": {
      "application/vnd.jupyter.widget-view+json": {
       "model_id": "1bb6106134b8403f8ebc73bef89815cf",
       "version_major": 2,
       "version_minor": 0
      },
      "text/plain": [
       "VkJveChjaGlsZHJlbj0oRmlndXJlKGNhbWVyYT1QZXJzcGVjdGl2ZUNhbWVyYShmb3Y9NDYuMCwgcG9zaXRpb249KDAuMCwgMi4wLCAxLjIyNDY0Njc5OTE0NzM1MzJlLTE2KSwgcXVhdGVybmnigKY=\n"
      ]
     },
     "metadata": {},
     "output_type": "display_data"
    },
    {
     "data": {
      "application/vnd.jupyter.widget-view+json": {
       "model_id": "dabdfa0ad0f748b2ba628e153ed700e6",
       "version_major": 2,
       "version_minor": 0
      },
      "text/plain": [
       "VkJveChjaGlsZHJlbj0oRmlndXJlKGNhbWVyYT1QZXJzcGVjdGl2ZUNhbWVyYShmb3Y9NDYuMCwgcG9zaXRpb249KDAuMCwgMi4wLCAxLjIyNDY0Njc5OTE0NzM1MzJlLTE2KSwgcXVhdGVybmnigKY=\n"
      ]
     },
     "metadata": {},
     "output_type": "display_data"
    },
    {
     "data": {
      "application/vnd.jupyter.widget-view+json": {
       "model_id": "c1b28eb12de246dfb702925cfd2a92e3",
       "version_major": 2,
       "version_minor": 0
      },
      "text/plain": [
       "VkJveChjaGlsZHJlbj0oRmlndXJlKGNhbWVyYT1QZXJzcGVjdGl2ZUNhbWVyYShmb3Y9NDYuMCwgcG9zaXRpb249KDAuMCwgMi4wLCAxLjIyNDY0Njc5OTE0NzM1MzJlLTE2KSwgcXVhdGVybmnigKY=\n"
      ]
     },
     "metadata": {},
     "output_type": "display_data"
    },
    {
     "data": {
      "application/vnd.jupyter.widget-view+json": {
       "model_id": "5a63096fabc44a6b80ea57a042e6d133",
       "version_major": 2,
       "version_minor": 0
      },
      "text/plain": [
       "VkJveChjaGlsZHJlbj0oRmlndXJlKGNhbWVyYT1QZXJzcGVjdGl2ZUNhbWVyYShmb3Y9NDYuMCwgcG9zaXRpb249KDAuMCwgMi4wLCAxLjIyNDY0Njc5OTE0NzM1MzJlLTE2KSwgcXVhdGVybmnigKY=\n"
      ]
     },
     "metadata": {},
     "output_type": "display_data"
    },
    {
     "data": {
      "application/vnd.jupyter.widget-view+json": {
       "model_id": "a91cb639cfb6412a981510ad1dee6a0e",
       "version_major": 2,
       "version_minor": 0
      },
      "text/plain": [
       "VkJveChjaGlsZHJlbj0oRmlndXJlKGNhbWVyYT1QZXJzcGVjdGl2ZUNhbWVyYShmb3Y9NDYuMCwgcG9zaXRpb249KDAuMCwgMi4wLCAxLjIyNDY0Njc5OTE0NzM1MzJlLTE2KSwgcXVhdGVybmnigKY=\n"
      ]
     },
     "metadata": {},
     "output_type": "display_data"
    },
    {
     "data": {
      "application/vnd.jupyter.widget-view+json": {
       "model_id": "477e7ffc6989471ea007c2272dddeb71",
       "version_major": 2,
       "version_minor": 0
      },
      "text/plain": [
       "VkJveChjaGlsZHJlbj0oRmlndXJlKGNhbWVyYT1QZXJzcGVjdGl2ZUNhbWVyYShmb3Y9NDYuMCwgcG9zaXRpb249KDAuMCwgMi4wLCAxLjIyNDY0Njc5OTE0NzM1MzJlLTE2KSwgcXVhdGVybmnigKY=\n"
      ]
     },
     "metadata": {},
     "output_type": "display_data"
    },
    {
     "data": {
      "application/vnd.jupyter.widget-view+json": {
       "model_id": "55df1622d0f8470f92c3febaa8f9453a",
       "version_major": 2,
       "version_minor": 0
      },
      "text/plain": [
       "VkJveChjaGlsZHJlbj0oRmlndXJlKGNhbWVyYT1QZXJzcGVjdGl2ZUNhbWVyYShmb3Y9NDYuMCwgcG9zaXRpb249KDAuMCwgMi4wLCAxLjIyNDY0Njc5OTE0NzM1MzJlLTE2KSwgcXVhdGVybmnigKY=\n"
      ]
     },
     "metadata": {},
     "output_type": "display_data"
    },
    {
     "data": {
      "application/vnd.jupyter.widget-view+json": {
       "model_id": "883f3af6081948cca4b346d1a76dd09c",
       "version_major": 2,
       "version_minor": 0
      },
      "text/plain": [
       "VkJveChjaGlsZHJlbj0oRmlndXJlKGNhbWVyYT1QZXJzcGVjdGl2ZUNhbWVyYShmb3Y9NDYuMCwgcG9zaXRpb249KDAuMCwgMi4wLCAxLjIyNDY0Njc5OTE0NzM1MzJlLTE2KSwgcXVhdGVybmnigKY=\n"
      ]
     },
     "metadata": {},
     "output_type": "display_data"
    },
    {
     "data": {
      "application/vnd.jupyter.widget-view+json": {
       "model_id": "d8181d778ee94cf5bdf6caef8115a44f",
       "version_major": 2,
       "version_minor": 0
      },
      "text/plain": [
       "VkJveChjaGlsZHJlbj0oRmlndXJlKGNhbWVyYT1QZXJzcGVjdGl2ZUNhbWVyYShmb3Y9NDYuMCwgcG9zaXRpb249KDAuMCwgMi4wLCAxLjIyNDY0Njc5OTE0NzM1MzJlLTE2KSwgcXVhdGVybmnigKY=\n"
      ]
     },
     "metadata": {},
     "output_type": "display_data"
    },
    {
     "data": {
      "application/vnd.jupyter.widget-view+json": {
       "model_id": "84e676aa4d3b486395c47b3653034866",
       "version_major": 2,
       "version_minor": 0
      },
      "text/plain": [
       "VkJveChjaGlsZHJlbj0oRmlndXJlKGNhbWVyYT1QZXJzcGVjdGl2ZUNhbWVyYShmb3Y9NDYuMCwgcG9zaXRpb249KDAuMCwgMi4wLCAxLjIyNDY0Njc5OTE0NzM1MzJlLTE2KSwgcXVhdGVybmnigKY=\n"
      ]
     },
     "metadata": {},
     "output_type": "display_data"
    },
    {
     "data": {
      "application/vnd.jupyter.widget-view+json": {
       "model_id": "19c55962fb374b3dbe6a5c7913ab2822",
       "version_major": 2,
       "version_minor": 0
      },
      "text/plain": [
       "VkJveChjaGlsZHJlbj0oRmlndXJlKGNhbWVyYT1QZXJzcGVjdGl2ZUNhbWVyYShmb3Y9NDYuMCwgcG9zaXRpb249KDAuMCwgMi4wLCAxLjIyNDY0Njc5OTE0NzM1MzJlLTE2KSwgcXVhdGVybmnigKY=\n"
      ]
     },
     "metadata": {},
     "output_type": "display_data"
    },
    {
     "data": {
      "application/vnd.jupyter.widget-view+json": {
       "model_id": "195715d79ed64e9ca93a2d74d2d3f506",
       "version_major": 2,
       "version_minor": 0
      },
      "text/plain": [
       "VkJveChjaGlsZHJlbj0oRmlndXJlKGNhbWVyYT1QZXJzcGVjdGl2ZUNhbWVyYShmb3Y9NDYuMCwgcG9zaXRpb249KDAuMCwgMi4wLCAxLjIyNDY0Njc5OTE0NzM1MzJlLTE2KSwgcXVhdGVybmnigKY=\n"
      ]
     },
     "metadata": {},
     "output_type": "display_data"
    },
    {
     "data": {
      "application/vnd.jupyter.widget-view+json": {
       "model_id": "00b7a6008fbc409b96d00b54808684b4",
       "version_major": 2,
       "version_minor": 0
      },
      "text/plain": [
       "VkJveChjaGlsZHJlbj0oRmlndXJlKGNhbWVyYT1QZXJzcGVjdGl2ZUNhbWVyYShmb3Y9NDYuMCwgcG9zaXRpb249KDAuMCwgMi4wLCAxLjIyNDY0Njc5OTE0NzM1MzJlLTE2KSwgcXVhdGVybmnigKY=\n"
      ]
     },
     "metadata": {},
     "output_type": "display_data"
    },
    {
     "data": {
      "application/vnd.jupyter.widget-view+json": {
       "model_id": "d01c9599b1924affadac77380c21cc79",
       "version_major": 2,
       "version_minor": 0
      },
      "text/plain": [
       "VkJveChjaGlsZHJlbj0oRmlndXJlKGNhbWVyYT1QZXJzcGVjdGl2ZUNhbWVyYShmb3Y9NDYuMCwgcG9zaXRpb249KDAuMCwgMi4wLCAxLjIyNDY0Njc5OTE0NzM1MzJlLTE2KSwgcXVhdGVybmnigKY=\n"
      ]
     },
     "metadata": {},
     "output_type": "display_data"
    }
   ],
   "source": [
    "for i,row in plants.iterrows():\n",
    "    try:\n",
    "        vmsi = segmentation(row)\n",
    "        phm_display_notebook.show_segmentation(vmsi, size=1)\n",
    "    except:\n",
    "        print('ERROR row number: ', i, row)"
   ]
  },
  {
   "cell_type": "code",
   "execution_count": 5,
   "metadata": {},
   "outputs": [],
   "source": [
    "import multiprocessing as mp"
   ]
  },
  {
   "cell_type": "code",
   "execution_count": 6,
   "metadata": {},
   "outputs": [
    {
     "name": "stderr",
     "output_type": "stream",
     "text": [
      "/home/ubuntu/phenomenal/src/openalea/phenomenal/segmentation/maize_analysis.py:115: FutureWarning: `rcond` parameter will change to the default of machine precision times ``max(M, N)`` where M and N are the input matrix dimensions.\n",
      "To use the future default and silence this warning we advise to pass `rcond=None`, to keep using the old, explicitly pass `rcond=-1`.\n",
      "  p_all = numpy.linalg.lstsq(XX, width[::-1])[0]\n",
      "/home/ubuntu/phenomenal/src/openalea/phenomenal/segmentation/maize_analysis.py:115: FutureWarning: `rcond` parameter will change to the default of machine precision times ``max(M, N)`` where M and N are the input matrix dimensions.\n",
      "To use the future default and silence this warning we advise to pass `rcond=None`, to keep using the old, explicitly pass `rcond=-1`.\n",
      "  p_all = numpy.linalg.lstsq(XX, width[::-1])[0]\n"
     ]
    }
   ],
   "source": [
    "pool = mp.Pool(2)"
   ]
  },
  {
   "cell_type": "code",
   "execution_count": 7,
   "metadata": {},
   "outputs": [],
   "source": [
    "rows = [row for i, row in plants.iterrows()]"
   ]
  },
  {
   "cell_type": "code",
   "execution_count": 8,
   "metadata": {},
   "outputs": [],
   "source": [
    "vmsis = pool.map(func=plant_seg, iterable=rows)"
   ]
  },
  {
   "cell_type": "code",
   "execution_count": 9,
   "metadata": {},
   "outputs": [
    {
     "data": {
      "text/plain": [
       "[<openalea.phenomenal.object.voxelSegmentation.VoxelSegmentation at 0x7fd6c0248310>,\n",
       " <openalea.phenomenal.object.voxelSegmentation.VoxelSegmentation at 0x7fd6c0248f50>,\n",
       " <openalea.phenomenal.object.voxelSegmentation.VoxelSegmentation at 0x7fd6c0265150>,\n",
       " <openalea.phenomenal.object.voxelSegmentation.VoxelSegmentation at 0x7fd6c0265310>,\n",
       " <openalea.phenomenal.object.voxelSegmentation.VoxelSegmentation at 0x7fd6c0265550>,\n",
       " <openalea.phenomenal.object.voxelSegmentation.VoxelSegmentation at 0x7fd6c02658d0>,\n",
       " None,\n",
       " <openalea.phenomenal.object.voxelSegmentation.VoxelSegmentation at 0x7fd6c0265b90>,\n",
       " <openalea.phenomenal.object.voxelSegmentation.VoxelSegmentation at 0x7fd6c0265f50>,\n",
       " <openalea.phenomenal.object.voxelSegmentation.VoxelSegmentation at 0x7fd6c0153490>,\n",
       " <openalea.phenomenal.object.voxelSegmentation.VoxelSegmentation at 0x7fd6c01538d0>,\n",
       " <openalea.phenomenal.object.voxelSegmentation.VoxelSegmentation at 0x7fd6c0153d10>,\n",
       " <openalea.phenomenal.object.voxelSegmentation.VoxelSegmentation at 0x7fd6bff20210>,\n",
       " <openalea.phenomenal.object.voxelSegmentation.VoxelSegmentation at 0x7fd6bff20810>,\n",
       " <openalea.phenomenal.object.voxelSegmentation.VoxelSegmentation at 0x7fd6bff20cd0>,\n",
       " <openalea.phenomenal.object.voxelSegmentation.VoxelSegmentation at 0x7fd6bfa7c250>,\n",
       " <openalea.phenomenal.object.voxelSegmentation.VoxelSegmentation at 0x7fd6bfa7c790>,\n",
       " <openalea.phenomenal.object.voxelSegmentation.VoxelSegmentation at 0x7fd6bfa7ce10>,\n",
       " <openalea.phenomenal.object.voxelSegmentation.VoxelSegmentation at 0x7fd6bf743390>,\n",
       " <openalea.phenomenal.object.voxelSegmentation.VoxelSegmentation at 0x7fd6bf7438d0>,\n",
       " <openalea.phenomenal.object.voxelSegmentation.VoxelSegmentation at 0x7fd6bf743e50>,\n",
       " <openalea.phenomenal.object.voxelSegmentation.VoxelSegmentation at 0x7fd6a45225d0>,\n",
       " <openalea.phenomenal.object.voxelSegmentation.VoxelSegmentation at 0x7fd6a4522b90>,\n",
       " <openalea.phenomenal.object.voxelSegmentation.VoxelSegmentation at 0x7fd6a40d31d0>,\n",
       " <openalea.phenomenal.object.voxelSegmentation.VoxelSegmentation at 0x7fd6a40d3710>,\n",
       " <openalea.phenomenal.object.voxelSegmentation.VoxelSegmentation at 0x7fd6a40d3e10>]"
      ]
     },
     "execution_count": 9,
     "metadata": {},
     "output_type": "execute_result"
    }
   ],
   "source": [
    "vmsis"
   ]
  },
  {
   "cell_type": "code",
   "execution_count": null,
   "metadata": {},
   "outputs": [],
   "source": []
  }
 ],
 "metadata": {
  "kernelspec": {
   "display_name": "Python 2",
   "language": "python",
   "name": "python2"
  },
  "language_info": {
   "codemirror_mode": {
    "name": "ipython",
    "version": 2
   },
   "file_extension": ".py",
   "mimetype": "text/x-python",
   "name": "python",
   "nbconvert_exporter": "python",
   "pygments_lexer": "ipython2",
   "version": "2.7.16"
  }
 },
 "nbformat": 4,
 "nbformat_minor": 2
}

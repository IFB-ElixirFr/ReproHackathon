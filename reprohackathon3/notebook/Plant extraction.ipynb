{
 "cells": [
  {
   "cell_type": "code",
   "execution_count": 4,
   "metadata": {},
   "outputs": [],
   "source": [
    "%matplotlib notebook\n",
    "\n",
    "import openalea.phenomenal.display.notebook as phm_display_notebook\n",
    "from segmentation_maize import segmentation, plant_seg\n",
    "import datacloud as dc"
   ]
  },
  {
   "cell_type": "code",
   "execution_count": 5,
   "metadata": {},
   "outputs": [],
   "source": [
    "db = dc.read_index()"
   ]
  },
  {
   "cell_type": "code",
   "execution_count": 6,
   "metadata": {},
   "outputs": [],
   "source": [
    "plant_ids = db.plant.unique()\n",
    "plant_id = plant_ids[2]"
   ]
  },
  {
   "cell_type": "code",
   "execution_count": 7,
   "metadata": {},
   "outputs": [
    {
     "name": "stderr",
     "output_type": "stream",
     "text": [
      "/var/lib/miniconda3/envs/phenomenal/lib/python2.7/site-packages/ipykernel_launcher.py:2: SettingWithCopyWarning: \n",
      "A value is trying to be set on a copy of a slice from a DataFrame\n",
      "\n",
      "See the caveats in the documentation: http://pandas.pydata.org/pandas-docs/stable/indexing.html#indexing-view-versus-copy\n",
      "  \n"
     ]
    }
   ],
   "source": [
    "plants = db.loc[db.plant==plant_id, :]\n",
    "plants.sort_values('date', inplace=True)"
   ]
  },
  {
   "cell_type": "code",
   "execution_count": 8,
   "metadata": {},
   "outputs": [],
   "source": [
    "import multiprocessing as mp"
   ]
  },
  {
   "cell_type": "code",
   "execution_count": 9,
   "metadata": {},
   "outputs": [
    {
     "name": "stderr",
     "output_type": "stream",
     "text": [
      "/var/lib/miniconda3/envs/phenomenal/lib/python2.7/site-packages/openalea/phenomenal/segmentation/maize_analysis.py:115: FutureWarning: `rcond` parameter will change to the default of machine precision times ``max(M, N)`` where M and N are the input matrix dimensions.\n",
      "To use the future default and silence this warning we advise to pass `rcond=None`, to keep using the old, explicitly pass `rcond=-1`.\n",
      "  p_all = numpy.linalg.lstsq(XX, width[::-1])[0]\n",
      "/var/lib/miniconda3/envs/phenomenal/lib/python2.7/site-packages/openalea/phenomenal/segmentation/maize_analysis.py:115: FutureWarning: `rcond` parameter will change to the default of machine precision times ``max(M, N)`` where M and N are the input matrix dimensions.\n",
      "To use the future default and silence this warning we advise to pass `rcond=None`, to keep using the old, explicitly pass `rcond=-1`.\n",
      "  p_all = numpy.linalg.lstsq(XX, width[::-1])[0]\n",
      "/var/lib/miniconda3/envs/phenomenal/lib/python2.7/site-packages/openalea/phenomenal/segmentation/maize_analysis.py:115: FutureWarning: `rcond` parameter will change to the default of machine precision times ``max(M, N)`` where M and N are the input matrix dimensions.\n",
      "To use the future default and silence this warning we advise to pass `rcond=None`, to keep using the old, explicitly pass `rcond=-1`.\n",
      "  p_all = numpy.linalg.lstsq(XX, width[::-1])[0]\n",
      "/var/lib/miniconda3/envs/phenomenal/lib/python2.7/site-packages/openalea/phenomenal/segmentation/maize_analysis.py:115: FutureWarning: `rcond` parameter will change to the default of machine precision times ``max(M, N)`` where M and N are the input matrix dimensions.\n",
      "To use the future default and silence this warning we advise to pass `rcond=None`, to keep using the old, explicitly pass `rcond=-1`.\n",
      "  p_all = numpy.linalg.lstsq(XX, width[::-1])[0]\n",
      "/var/lib/miniconda3/envs/phenomenal/lib/python2.7/site-packages/openalea/phenomenal/segmentation/maize_analysis.py:115: FutureWarning: `rcond` parameter will change to the default of machine precision times ``max(M, N)`` where M and N are the input matrix dimensions.\n",
      "To use the future default and silence this warning we advise to pass `rcond=None`, to keep using the old, explicitly pass `rcond=-1`.\n",
      "  p_all = numpy.linalg.lstsq(XX, width[::-1])[0]\n",
      "/var/lib/miniconda3/envs/phenomenal/lib/python2.7/site-packages/openalea/phenomenal/segmentation/maize_analysis.py:115: FutureWarning: `rcond` parameter will change to the default of machine precision times ``max(M, N)`` where M and N are the input matrix dimensions.\n",
      "To use the future default and silence this warning we advise to pass `rcond=None`, to keep using the old, explicitly pass `rcond=-1`.\n",
      "  p_all = numpy.linalg.lstsq(XX, width[::-1])[0]\n",
      "/var/lib/miniconda3/envs/phenomenal/lib/python2.7/site-packages/openalea/phenomenal/segmentation/maize_analysis.py:115: FutureWarning: `rcond` parameter will change to the default of machine precision times ``max(M, N)`` where M and N are the input matrix dimensions.\n",
      "To use the future default and silence this warning we advise to pass `rcond=None`, to keep using the old, explicitly pass `rcond=-1`.\n",
      "  p_all = numpy.linalg.lstsq(XX, width[::-1])[0]\n",
      "/var/lib/miniconda3/envs/phenomenal/lib/python2.7/site-packages/openalea/phenomenal/segmentation/maize_analysis.py:115: FutureWarning: `rcond` parameter will change to the default of machine precision times ``max(M, N)`` where M and N are the input matrix dimensions.\n",
      "To use the future default and silence this warning we advise to pass `rcond=None`, to keep using the old, explicitly pass `rcond=-1`.\n",
      "  p_all = numpy.linalg.lstsq(XX, width[::-1])[0]\n",
      "/var/lib/miniconda3/envs/phenomenal/lib/python2.7/site-packages/openalea/phenomenal/segmentation/maize_analysis.py:115: FutureWarning: `rcond` parameter will change to the default of machine precision times ``max(M, N)`` where M and N are the input matrix dimensions.\n",
      "To use the future default and silence this warning we advise to pass `rcond=None`, to keep using the old, explicitly pass `rcond=-1`.\n",
      "  p_all = numpy.linalg.lstsq(XX, width[::-1])[0]\n",
      "/var/lib/miniconda3/envs/phenomenal/lib/python2.7/site-packages/openalea/phenomenal/segmentation/maize_analysis.py:115: FutureWarning: `rcond` parameter will change to the default of machine precision times ``max(M, N)`` where M and N are the input matrix dimensions.\n",
      "To use the future default and silence this warning we advise to pass `rcond=None`, to keep using the old, explicitly pass `rcond=-1`.\n",
      "  p_all = numpy.linalg.lstsq(XX, width[::-1])[0]\n",
      "/var/lib/miniconda3/envs/phenomenal/lib/python2.7/site-packages/openalea/phenomenal/segmentation/maize_analysis.py:115: FutureWarning: `rcond` parameter will change to the default of machine precision times ``max(M, N)`` where M and N are the input matrix dimensions.\n",
      "To use the future default and silence this warning we advise to pass `rcond=None`, to keep using the old, explicitly pass `rcond=-1`.\n",
      "  p_all = numpy.linalg.lstsq(XX, width[::-1])[0]\n",
      "/var/lib/miniconda3/envs/phenomenal/lib/python2.7/site-packages/openalea/phenomenal/segmentation/maize_analysis.py:115: FutureWarning: `rcond` parameter will change to the default of machine precision times ``max(M, N)`` where M and N are the input matrix dimensions.\n",
      "To use the future default and silence this warning we advise to pass `rcond=None`, to keep using the old, explicitly pass `rcond=-1`.\n",
      "  p_all = numpy.linalg.lstsq(XX, width[::-1])[0]\n",
      "/var/lib/miniconda3/envs/phenomenal/lib/python2.7/site-packages/openalea/phenomenal/segmentation/maize_analysis.py:115: FutureWarning: `rcond` parameter will change to the default of machine precision times ``max(M, N)`` where M and N are the input matrix dimensions.\n",
      "To use the future default and silence this warning we advise to pass `rcond=None`, to keep using the old, explicitly pass `rcond=-1`.\n",
      "  p_all = numpy.linalg.lstsq(XX, width[::-1])[0]\n",
      "/var/lib/miniconda3/envs/phenomenal/lib/python2.7/site-packages/openalea/phenomenal/segmentation/maize_analysis.py:115: FutureWarning: `rcond` parameter will change to the default of machine precision times ``max(M, N)`` where M and N are the input matrix dimensions.\n",
      "To use the future default and silence this warning we advise to pass `rcond=None`, to keep using the old, explicitly pass `rcond=-1`.\n",
      "  p_all = numpy.linalg.lstsq(XX, width[::-1])[0]\n",
      "/var/lib/miniconda3/envs/phenomenal/lib/python2.7/site-packages/openalea/phenomenal/segmentation/maize_analysis.py:115: FutureWarning: `rcond` parameter will change to the default of machine precision times ``max(M, N)`` where M and N are the input matrix dimensions.\n",
      "To use the future default and silence this warning we advise to pass `rcond=None`, to keep using the old, explicitly pass `rcond=-1`.\n",
      "  p_all = numpy.linalg.lstsq(XX, width[::-1])[0]\n",
      "/var/lib/miniconda3/envs/phenomenal/lib/python2.7/site-packages/openalea/phenomenal/segmentation/maize_analysis.py:115: FutureWarning: `rcond` parameter will change to the default of machine precision times ``max(M, N)`` where M and N are the input matrix dimensions.\n",
      "To use the future default and silence this warning we advise to pass `rcond=None`, to keep using the old, explicitly pass `rcond=-1`.\n",
      "  p_all = numpy.linalg.lstsq(XX, width[::-1])[0]\n"
     ]
    }
   ],
   "source": [
    "num_jobs=mp.cpu_count()\n",
    "pool = mp.Pool(num_jobs)"
   ]
  },
  {
   "cell_type": "code",
   "execution_count": 10,
   "metadata": {},
   "outputs": [],
   "source": [
    "rows = [row for i, row in plants.iterrows()]"
   ]
  },
  {
   "cell_type": "code",
   "execution_count": 11,
   "metadata": {},
   "outputs": [],
   "source": [
    "vmsis = pool.map(func=plant_seg, iterable=rows)"
   ]
  },
  {
   "cell_type": "code",
   "execution_count": 12,
   "metadata": {},
   "outputs": [],
   "source": [
    "vmsis= filter(None, vmsis)"
   ]
  },
  {
   "cell_type": "code",
   "execution_count": 110,
   "metadata": {},
   "outputs": [],
   "source": [
    "from openalea.phenomenal.display.notebook import *\n",
    "import ipyvolume\n",
    "def show_segmentation(voxel_segmentation,\n",
    "                      size=1.0,\n",
    "                      width=500, height=500):\n",
    "    ipyvolume.figure(width=width, height=height)\n",
    "    ipyvolume.view(distance=4., azimuth=90.,elevation=-90)\n",
    "\n",
    "    def get_color(label, info):\n",
    "\n",
    "        if label == \"stem\":\n",
    "            color = (128, 128, 128)\n",
    "        elif label == \"unknown\":\n",
    "            color = (255, 255, 255)\n",
    "        elif 'pm_leaf_number' in info:\n",
    "            color_map = order_color_map()\n",
    "            color = color_map[info['pm_leaf_number']]\n",
    "            color = tuple([int(255 * x) for x in color])\n",
    "        else:\n",
    "            if label == \"growing_leaf\":\n",
    "                color = (255, 0, 0)\n",
    "            else:\n",
    "                color = (0, 255, 0)\n",
    "\n",
    "        return \"rgb\" + str(color)\n",
    "\n",
    "    for vo in voxel_segmentation.voxel_organs:\n",
    "\n",
    "        voxels_position = numpy.array(\n",
    "            map(tuple, list(vo.voxels_position())))\n",
    "\n",
    "        plot_voxel(voxels_position,\n",
    "                   size=size * 1,\n",
    "                   color=get_color(vo.label, vo.info))\n",
    "\n",
    "        if ((vo.label == \"mature_leaf\" or vo.label == \"growing_leaf\") and\n",
    "                len(vo.voxel_segments) > 0 and \"pm_position_tip\" in vo.info):\n",
    "\n",
    "            plot_voxel(numpy.array([vo.info['pm_position_tip']]),\n",
    "                       size=size * 2,\n",
    "                       color=\"red\",\n",
    "                       marker=\"sphere\")\n",
    "\n",
    "            plot_voxel(numpy.array([vo.info['pm_position_base']]),\n",
    "                       size=size * 2,\n",
    "                       color=\"blue\",\n",
    "                       marker=\"sphere\")\n",
    "\n",
    "    voxels_position = numpy.array(list(\n",
    "        voxel_segmentation.get_voxels_position()))\n",
    "\n",
    "    x_min = voxels_position[:, 0].min()\n",
    "    x_max = voxels_position[:, 0].max()\n",
    "    y_min = voxels_position[:, 1].min()\n",
    "    y_max = voxels_position[:, 1].max()\n",
    "    z_min = voxels_position[:, 2].min()\n",
    "    z_max = voxels_position[:, 2].max()\n",
    "    xyz_max = max(x_max - x_min, y_max - y_min, z_max - z_min)\n",
    "    ipyvolume.xlim(x_min, x_min + xyz_max)\n",
    "    ipyvolume.ylim(y_min, y_min + xyz_max)\n",
    "    ipyvolume.zlim(z_min, z_min + xyz_max)\n",
    "    ipyvolume.show()"
   ]
  },
  {
   "cell_type": "code",
   "execution_count": 120,
   "metadata": {},
   "outputs": [],
   "source": [
    "for i, vmsi in enumerate(vmsis):\n",
    "    fname='plant_%s_%d.json.gz'\n",
    "    row= rows[i]\n",
    "    vmsi.write_to_json_gz(fname%(row.genotype, row.timestamp))"
   ]
  },
  {
   "cell_type": "code",
   "execution_count": 116,
   "metadata": {},
   "outputs": [
    {
     "data": {
      "text/plain": [
       "1466511116"
      ]
     },
     "execution_count": 116,
     "metadata": {},
     "output_type": "execute_result"
    }
   ],
   "source": [
    "row.timestamp\n"
   ]
  },
  {
   "cell_type": "code",
   "execution_count": null,
   "metadata": {},
   "outputs": [],
   "source": []
  }
 ],
 "metadata": {
  "kernelspec": {
   "display_name": "Python 2",
   "language": "python",
   "name": "python2"
  },
  "language_info": {
   "codemirror_mode": {
    "name": "ipython",
    "version": 2
   },
   "file_extension": ".py",
   "mimetype": "text/x-python",
   "name": "python",
   "nbconvert_exporter": "python",
   "pygments_lexer": "ipython2",
   "version": "2.7.16"
  }
 },
 "nbformat": 4,
 "nbformat_minor": 2
}
